{
 "cells": [
  {
   "cell_type": "code",
   "execution_count": 117,
   "metadata": {
    "id": "bCIP4CPmgj2l"
   },
   "outputs": [],
   "source": [
    "import numpy as np\n",
    "import pandas as pd\n",
    "import sklearn\n",
    "from sklearn.model_selection import KFold\n",
    "from sklearn.ensemble import RandomForestClassifier\n",
    "from sklearn.model_selection import train_test_split\n",
    "from sklearn.model_selection import cross_val_score\n",
    "from sklearn.metrics import mean_squared_error, accuracy_score\n",
    "from random import sample\n",
    "import matplotlib.pyplot as plt\n",
    "import matplotlib.lines as mlines\n",
    "import numpy as np\n",
    "import pandas as pd\n",
    "import matplotlib.pyplot as plt\n",
    "from sklearn.decomposition import PCA\n",
    "from sklearn.preprocessing import StandardScaler\n",
    "from sklearn.metrics.pairwise import euclidean_distances\n",
    "import time"
   ]
  },
  {
   "cell_type": "code",
   "execution_count": null,
   "metadata": {
    "colab": {
     "base_uri": "https://localhost:8080/"
    },
    "id": "9FZEnoWVDrfa",
    "outputId": "2ca85a74-d822-4ff1-84be-8ef6ee94e098"
   },
   "outputs": [],
   "source": []
  },
  {
   "cell_type": "markdown",
   "metadata": {
    "id": "zOkX7L4rDsO_"
   },
   "source": [
    "## Read in the train feature and train label file"
   ]
  },
  {
   "cell_type": "code",
   "execution_count": 118,
   "metadata": {
    "colab": {
     "base_uri": "https://localhost:8080/"
    },
    "id": "AG6rb4dsDuxr",
    "outputId": "6280caad-ca31-49d1-bc53-54bbe87da276"
   },
   "outputs": [
    {
     "data": {
      "text/plain": [
       "<pandas.io.excel._base.ExcelFile at 0x2280e7ac700>"
      ]
     },
     "execution_count": 118,
     "metadata": {},
     "output_type": "execute_result"
    }
   ],
   "source": [
    "data = pd.ExcelFile('M. musculus_Constructed_RFInput.xlsx')\n",
    "data"
   ]
  },
  {
   "cell_type": "code",
   "execution_count": 119,
   "metadata": {
    "colab": {
     "base_uri": "https://localhost:8080/",
     "height": 443
    },
    "id": "cqJNLxCGDxCp",
    "outputId": "e8b52136-3eb5-4f62-8458-e31f165a7d36"
   },
   "outputs": [
    {
     "data": {
      "text/html": [
       "<div>\n",
       "<style scoped>\n",
       "    .dataframe tbody tr th:only-of-type {\n",
       "        vertical-align: middle;\n",
       "    }\n",
       "\n",
       "    .dataframe tbody tr th {\n",
       "        vertical-align: top;\n",
       "    }\n",
       "\n",
       "    .dataframe thead th {\n",
       "        text-align: right;\n",
       "    }\n",
       "</style>\n",
       "<table border=\"1\" class=\"dataframe\">\n",
       "  <thead>\n",
       "    <tr style=\"text-align: right;\">\n",
       "      <th></th>\n",
       "      <th>n_A</th>\n",
       "      <th>n_C</th>\n",
       "      <th>n_G</th>\n",
       "      <th>n_T</th>\n",
       "      <th>u_A</th>\n",
       "      <th>u_C</th>\n",
       "      <th>u_G</th>\n",
       "      <th>u_T</th>\n",
       "      <th>d_A</th>\n",
       "      <th>d_C</th>\n",
       "      <th>...</th>\n",
       "      <th>CGA.1</th>\n",
       "      <th>CGG.1</th>\n",
       "      <th>AGT.1</th>\n",
       "      <th>AGC.1</th>\n",
       "      <th>AGA.1</th>\n",
       "      <th>AGG.1</th>\n",
       "      <th>GGT.1</th>\n",
       "      <th>GGC.1</th>\n",
       "      <th>GGA.1</th>\n",
       "      <th>GGG.1</th>\n",
       "    </tr>\n",
       "  </thead>\n",
       "  <tbody>\n",
       "    <tr>\n",
       "      <th>0</th>\n",
       "      <td>0.326392</td>\n",
       "      <td>0.448587</td>\n",
       "      <td>0.417355</td>\n",
       "      <td>0.376497</td>\n",
       "      <td>0.353800</td>\n",
       "      <td>0.413755</td>\n",
       "      <td>0.410101</td>\n",
       "      <td>0.378878</td>\n",
       "      <td>0.378005</td>\n",
       "      <td>0.381980</td>\n",
       "      <td>...</td>\n",
       "      <td>1.778552</td>\n",
       "      <td>3.049156</td>\n",
       "      <td>3.021475</td>\n",
       "      <td>2.417268</td>\n",
       "      <td>2.458653</td>\n",
       "      <td>2.765714</td>\n",
       "      <td>3.545550</td>\n",
       "      <td>3.244993</td>\n",
       "      <td>2.976785</td>\n",
       "      <td>3.478319</td>\n",
       "    </tr>\n",
       "    <tr>\n",
       "      <th>1</th>\n",
       "      <td>1.217187</td>\n",
       "      <td>1.590423</td>\n",
       "      <td>1.556191</td>\n",
       "      <td>1.207327</td>\n",
       "      <td>1.408850</td>\n",
       "      <td>1.362981</td>\n",
       "      <td>1.358021</td>\n",
       "      <td>1.350082</td>\n",
       "      <td>1.430679</td>\n",
       "      <td>1.331850</td>\n",
       "      <td>...</td>\n",
       "      <td>-0.102390</td>\n",
       "      <td>-0.170134</td>\n",
       "      <td>-0.122147</td>\n",
       "      <td>-0.152855</td>\n",
       "      <td>-0.141722</td>\n",
       "      <td>-0.099842</td>\n",
       "      <td>-0.128445</td>\n",
       "      <td>-0.170222</td>\n",
       "      <td>-0.074292</td>\n",
       "      <td>-0.134973</td>\n",
       "    </tr>\n",
       "    <tr>\n",
       "      <th>2</th>\n",
       "      <td>0.141948</td>\n",
       "      <td>0.385142</td>\n",
       "      <td>0.301133</td>\n",
       "      <td>0.128007</td>\n",
       "      <td>0.221153</td>\n",
       "      <td>0.225113</td>\n",
       "      <td>0.223671</td>\n",
       "      <td>0.225498</td>\n",
       "      <td>0.222336</td>\n",
       "      <td>0.206514</td>\n",
       "      <td>...</td>\n",
       "      <td>-0.086628</td>\n",
       "      <td>-0.293893</td>\n",
       "      <td>-0.321026</td>\n",
       "      <td>-0.292861</td>\n",
       "      <td>-0.255400</td>\n",
       "      <td>-0.350610</td>\n",
       "      <td>-0.389194</td>\n",
       "      <td>-0.288246</td>\n",
       "      <td>-0.355680</td>\n",
       "      <td>-0.397429</td>\n",
       "    </tr>\n",
       "    <tr>\n",
       "      <th>3</th>\n",
       "      <td>0.141948</td>\n",
       "      <td>0.385142</td>\n",
       "      <td>0.301133</td>\n",
       "      <td>0.128007</td>\n",
       "      <td>0.221153</td>\n",
       "      <td>0.225113</td>\n",
       "      <td>0.223671</td>\n",
       "      <td>0.225498</td>\n",
       "      <td>0.222336</td>\n",
       "      <td>0.206514</td>\n",
       "      <td>...</td>\n",
       "      <td>-0.464918</td>\n",
       "      <td>-0.423371</td>\n",
       "      <td>-0.433725</td>\n",
       "      <td>-0.458703</td>\n",
       "      <td>-0.482078</td>\n",
       "      <td>-0.459750</td>\n",
       "      <td>-0.441202</td>\n",
       "      <td>-0.408144</td>\n",
       "      <td>-0.462906</td>\n",
       "      <td>-0.435856</td>\n",
       "    </tr>\n",
       "    <tr>\n",
       "      <th>4</th>\n",
       "      <td>5.750749</td>\n",
       "      <td>5.438396</td>\n",
       "      <td>5.314102</td>\n",
       "      <td>5.526218</td>\n",
       "      <td>5.473293</td>\n",
       "      <td>5.771874</td>\n",
       "      <td>5.696210</td>\n",
       "      <td>5.316173</td>\n",
       "      <td>5.279176</td>\n",
       "      <td>5.720657</td>\n",
       "      <td>...</td>\n",
       "      <td>-0.296789</td>\n",
       "      <td>-0.302212</td>\n",
       "      <td>-0.310420</td>\n",
       "      <td>-0.292028</td>\n",
       "      <td>-0.233070</td>\n",
       "      <td>-0.311522</td>\n",
       "      <td>-0.316527</td>\n",
       "      <td>-0.296364</td>\n",
       "      <td>-0.269249</td>\n",
       "      <td>-0.292139</td>\n",
       "    </tr>\n",
       "    <tr>\n",
       "      <th>...</th>\n",
       "      <td>...</td>\n",
       "      <td>...</td>\n",
       "      <td>...</td>\n",
       "      <td>...</td>\n",
       "      <td>...</td>\n",
       "      <td>...</td>\n",
       "      <td>...</td>\n",
       "      <td>...</td>\n",
       "      <td>...</td>\n",
       "      <td>...</td>\n",
       "      <td>...</td>\n",
       "      <td>...</td>\n",
       "      <td>...</td>\n",
       "      <td>...</td>\n",
       "      <td>...</td>\n",
       "      <td>...</td>\n",
       "      <td>...</td>\n",
       "      <td>...</td>\n",
       "      <td>...</td>\n",
       "      <td>...</td>\n",
       "      <td>...</td>\n",
       "    </tr>\n",
       "    <tr>\n",
       "      <th>573</th>\n",
       "      <td>-0.481032</td>\n",
       "      <td>-0.526478</td>\n",
       "      <td>-0.532859</td>\n",
       "      <td>-0.487178</td>\n",
       "      <td>-0.503260</td>\n",
       "      <td>-0.504608</td>\n",
       "      <td>-0.504952</td>\n",
       "      <td>-0.506469</td>\n",
       "      <td>-0.498578</td>\n",
       "      <td>-0.514519</td>\n",
       "      <td>...</td>\n",
       "      <td>-0.028834</td>\n",
       "      <td>-0.135294</td>\n",
       "      <td>-0.133417</td>\n",
       "      <td>-0.114520</td>\n",
       "      <td>-0.149166</td>\n",
       "      <td>-0.101365</td>\n",
       "      <td>-0.087837</td>\n",
       "      <td>-0.147741</td>\n",
       "      <td>-0.099636</td>\n",
       "      <td>-0.053892</td>\n",
       "    </tr>\n",
       "    <tr>\n",
       "      <th>574</th>\n",
       "      <td>-0.411256</td>\n",
       "      <td>-0.459203</td>\n",
       "      <td>-0.455191</td>\n",
       "      <td>-0.412401</td>\n",
       "      <td>-0.434577</td>\n",
       "      <td>-0.431178</td>\n",
       "      <td>-0.433633</td>\n",
       "      <td>-0.430406</td>\n",
       "      <td>-0.424931</td>\n",
       "      <td>-0.433484</td>\n",
       "      <td>...</td>\n",
       "      <td>-0.370345</td>\n",
       "      <td>-0.394772</td>\n",
       "      <td>-0.376050</td>\n",
       "      <td>-0.414534</td>\n",
       "      <td>-0.408323</td>\n",
       "      <td>-0.353655</td>\n",
       "      <td>-0.391332</td>\n",
       "      <td>-0.366304</td>\n",
       "      <td>-0.397270</td>\n",
       "      <td>-0.410110</td>\n",
       "    </tr>\n",
       "    <tr>\n",
       "      <th>575</th>\n",
       "      <td>-0.347188</td>\n",
       "      <td>-0.399089</td>\n",
       "      <td>-0.399235</td>\n",
       "      <td>-0.345504</td>\n",
       "      <td>-0.368185</td>\n",
       "      <td>-0.369544</td>\n",
       "      <td>-0.370784</td>\n",
       "      <td>-0.371326</td>\n",
       "      <td>-0.358907</td>\n",
       "      <td>-0.374394</td>\n",
       "      <td>...</td>\n",
       "      <td>-0.443902</td>\n",
       "      <td>-0.428051</td>\n",
       "      <td>-0.425107</td>\n",
       "      <td>-0.412034</td>\n",
       "      <td>-0.443509</td>\n",
       "      <td>-0.463303</td>\n",
       "      <td>-0.451176</td>\n",
       "      <td>-0.421258</td>\n",
       "      <td>-0.448609</td>\n",
       "      <td>-0.476973</td>\n",
       "    </tr>\n",
       "    <tr>\n",
       "      <th>576</th>\n",
       "      <td>-0.309799</td>\n",
       "      <td>-0.268287</td>\n",
       "      <td>-0.324920</td>\n",
       "      <td>-0.340270</td>\n",
       "      <td>-0.309957</td>\n",
       "      <td>-0.315844</td>\n",
       "      <td>-0.321427</td>\n",
       "      <td>-0.309985</td>\n",
       "      <td>-0.323398</td>\n",
       "      <td>-0.308805</td>\n",
       "      <td>...</td>\n",
       "      <td>-0.196962</td>\n",
       "      <td>-0.047415</td>\n",
       "      <td>-0.053202</td>\n",
       "      <td>-0.071184</td>\n",
       "      <td>-0.048344</td>\n",
       "      <td>-0.033343</td>\n",
       "      <td>-0.053640</td>\n",
       "      <td>-0.042830</td>\n",
       "      <td>-0.095087</td>\n",
       "      <td>-0.078101</td>\n",
       "    </tr>\n",
       "    <tr>\n",
       "      <th>577</th>\n",
       "      <td>-0.384385</td>\n",
       "      <td>-0.409747</td>\n",
       "      <td>-0.402108</td>\n",
       "      <td>-0.412574</td>\n",
       "      <td>-0.398192</td>\n",
       "      <td>-0.407012</td>\n",
       "      <td>-0.397551</td>\n",
       "      <td>-0.410379</td>\n",
       "      <td>-0.387531</td>\n",
       "      <td>-0.422949</td>\n",
       "      <td>...</td>\n",
       "      <td>-0.055104</td>\n",
       "      <td>-0.110854</td>\n",
       "      <td>-0.133417</td>\n",
       "      <td>-0.117020</td>\n",
       "      <td>-0.166759</td>\n",
       "      <td>-0.132330</td>\n",
       "      <td>-0.139844</td>\n",
       "      <td>-0.102779</td>\n",
       "      <td>-0.148375</td>\n",
       "      <td>-0.096930</td>\n",
       "    </tr>\n",
       "  </tbody>\n",
       "</table>\n",
       "<p>578 rows × 184 columns</p>\n",
       "</div>"
      ],
      "text/plain": [
       "          n_A       n_C       n_G       n_T       u_A       u_C       u_G  \\\n",
       "0    0.326392  0.448587  0.417355  0.376497  0.353800  0.413755  0.410101   \n",
       "1    1.217187  1.590423  1.556191  1.207327  1.408850  1.362981  1.358021   \n",
       "2    0.141948  0.385142  0.301133  0.128007  0.221153  0.225113  0.223671   \n",
       "3    0.141948  0.385142  0.301133  0.128007  0.221153  0.225113  0.223671   \n",
       "4    5.750749  5.438396  5.314102  5.526218  5.473293  5.771874  5.696210   \n",
       "..        ...       ...       ...       ...       ...       ...       ...   \n",
       "573 -0.481032 -0.526478 -0.532859 -0.487178 -0.503260 -0.504608 -0.504952   \n",
       "574 -0.411256 -0.459203 -0.455191 -0.412401 -0.434577 -0.431178 -0.433633   \n",
       "575 -0.347188 -0.399089 -0.399235 -0.345504 -0.368185 -0.369544 -0.370784   \n",
       "576 -0.309799 -0.268287 -0.324920 -0.340270 -0.309957 -0.315844 -0.321427   \n",
       "577 -0.384385 -0.409747 -0.402108 -0.412574 -0.398192 -0.407012 -0.397551   \n",
       "\n",
       "          u_T       d_A       d_C  ...     CGA.1     CGG.1     AGT.1  \\\n",
       "0    0.378878  0.378005  0.381980  ...  1.778552  3.049156  3.021475   \n",
       "1    1.350082  1.430679  1.331850  ... -0.102390 -0.170134 -0.122147   \n",
       "2    0.225498  0.222336  0.206514  ... -0.086628 -0.293893 -0.321026   \n",
       "3    0.225498  0.222336  0.206514  ... -0.464918 -0.423371 -0.433725   \n",
       "4    5.316173  5.279176  5.720657  ... -0.296789 -0.302212 -0.310420   \n",
       "..        ...       ...       ...  ...       ...       ...       ...   \n",
       "573 -0.506469 -0.498578 -0.514519  ... -0.028834 -0.135294 -0.133417   \n",
       "574 -0.430406 -0.424931 -0.433484  ... -0.370345 -0.394772 -0.376050   \n",
       "575 -0.371326 -0.358907 -0.374394  ... -0.443902 -0.428051 -0.425107   \n",
       "576 -0.309985 -0.323398 -0.308805  ... -0.196962 -0.047415 -0.053202   \n",
       "577 -0.410379 -0.387531 -0.422949  ... -0.055104 -0.110854 -0.133417   \n",
       "\n",
       "        AGC.1     AGA.1     AGG.1     GGT.1     GGC.1     GGA.1     GGG.1  \n",
       "0    2.417268  2.458653  2.765714  3.545550  3.244993  2.976785  3.478319  \n",
       "1   -0.152855 -0.141722 -0.099842 -0.128445 -0.170222 -0.074292 -0.134973  \n",
       "2   -0.292861 -0.255400 -0.350610 -0.389194 -0.288246 -0.355680 -0.397429  \n",
       "3   -0.458703 -0.482078 -0.459750 -0.441202 -0.408144 -0.462906 -0.435856  \n",
       "4   -0.292028 -0.233070 -0.311522 -0.316527 -0.296364 -0.269249 -0.292139  \n",
       "..        ...       ...       ...       ...       ...       ...       ...  \n",
       "573 -0.114520 -0.149166 -0.101365 -0.087837 -0.147741 -0.099636 -0.053892  \n",
       "574 -0.414534 -0.408323 -0.353655 -0.391332 -0.366304 -0.397270 -0.410110  \n",
       "575 -0.412034 -0.443509 -0.463303 -0.451176 -0.421258 -0.448609 -0.476973  \n",
       "576 -0.071184 -0.048344 -0.033343 -0.053640 -0.042830 -0.095087 -0.078101  \n",
       "577 -0.117020 -0.166759 -0.132330 -0.139844 -0.102779 -0.148375 -0.096930  \n",
       "\n",
       "[578 rows x 184 columns]"
      ]
     },
     "execution_count": 119,
     "metadata": {},
     "output_type": "execute_result"
    }
   ],
   "source": [
    "# trainX\n",
    "\n",
    "dataTrainFeature = data.parse(data.sheet_names[3])\n",
    "dataTrainFeature"
   ]
  },
  {
   "cell_type": "code",
   "execution_count": 120,
   "metadata": {
    "colab": {
     "base_uri": "https://localhost:8080/",
     "height": 423
    },
    "id": "w5JzCFi_JL_i",
    "outputId": "34ec66b3-ccc4-457c-cd54-50e9457cd9b7"
   },
   "outputs": [
    {
     "data": {
      "text/html": [
       "<div>\n",
       "<style scoped>\n",
       "    .dataframe tbody tr th:only-of-type {\n",
       "        vertical-align: middle;\n",
       "    }\n",
       "\n",
       "    .dataframe tbody tr th {\n",
       "        vertical-align: top;\n",
       "    }\n",
       "\n",
       "    .dataframe thead th {\n",
       "        text-align: right;\n",
       "    }\n",
       "</style>\n",
       "<table border=\"1\" class=\"dataframe\">\n",
       "  <thead>\n",
       "    <tr style=\"text-align: right;\">\n",
       "      <th></th>\n",
       "      <th>label</th>\n",
       "    </tr>\n",
       "  </thead>\n",
       "  <tbody>\n",
       "    <tr>\n",
       "      <th>0</th>\n",
       "      <td>1</td>\n",
       "    </tr>\n",
       "    <tr>\n",
       "      <th>1</th>\n",
       "      <td>1</td>\n",
       "    </tr>\n",
       "    <tr>\n",
       "      <th>2</th>\n",
       "      <td>1</td>\n",
       "    </tr>\n",
       "    <tr>\n",
       "      <th>3</th>\n",
       "      <td>1</td>\n",
       "    </tr>\n",
       "    <tr>\n",
       "      <th>4</th>\n",
       "      <td>1</td>\n",
       "    </tr>\n",
       "    <tr>\n",
       "      <th>...</th>\n",
       "      <td>...</td>\n",
       "    </tr>\n",
       "    <tr>\n",
       "      <th>573</th>\n",
       "      <td>0</td>\n",
       "    </tr>\n",
       "    <tr>\n",
       "      <th>574</th>\n",
       "      <td>0</td>\n",
       "    </tr>\n",
       "    <tr>\n",
       "      <th>575</th>\n",
       "      <td>0</td>\n",
       "    </tr>\n",
       "    <tr>\n",
       "      <th>576</th>\n",
       "      <td>0</td>\n",
       "    </tr>\n",
       "    <tr>\n",
       "      <th>577</th>\n",
       "      <td>0</td>\n",
       "    </tr>\n",
       "  </tbody>\n",
       "</table>\n",
       "<p>578 rows × 1 columns</p>\n",
       "</div>"
      ],
      "text/plain": [
       "     label\n",
       "0        1\n",
       "1        1\n",
       "2        1\n",
       "3        1\n",
       "4        1\n",
       "..     ...\n",
       "573      0\n",
       "574      0\n",
       "575      0\n",
       "576      0\n",
       "577      0\n",
       "\n",
       "[578 rows x 1 columns]"
      ]
     },
     "execution_count": 120,
     "metadata": {},
     "output_type": "execute_result"
    }
   ],
   "source": [
    "# trainY\n",
    "\n",
    "dataTrainLabel = data.parse(data.sheet_names[0])\n",
    "dataTrainLabel"
   ]
  },
  {
   "cell_type": "code",
   "execution_count": 121,
   "metadata": {
    "colab": {
     "base_uri": "https://localhost:8080/",
     "height": 423
    },
    "id": "oFhajapPJOZW",
    "outputId": "89713245-e265-458c-c11f-379c5854da87"
   },
   "outputs": [
    {
     "data": {
      "text/html": [
       "<div>\n",
       "<style scoped>\n",
       "    .dataframe tbody tr th:only-of-type {\n",
       "        vertical-align: middle;\n",
       "    }\n",
       "\n",
       "    .dataframe tbody tr th {\n",
       "        vertical-align: top;\n",
       "    }\n",
       "\n",
       "    .dataframe thead th {\n",
       "        text-align: right;\n",
       "    }\n",
       "</style>\n",
       "<table border=\"1\" class=\"dataframe\">\n",
       "  <thead>\n",
       "    <tr style=\"text-align: right;\">\n",
       "      <th></th>\n",
       "      <th>label</th>\n",
       "    </tr>\n",
       "  </thead>\n",
       "  <tbody>\n",
       "    <tr>\n",
       "      <th>0</th>\n",
       "      <td>1</td>\n",
       "    </tr>\n",
       "    <tr>\n",
       "      <th>1</th>\n",
       "      <td>1</td>\n",
       "    </tr>\n",
       "    <tr>\n",
       "      <th>2</th>\n",
       "      <td>1</td>\n",
       "    </tr>\n",
       "    <tr>\n",
       "      <th>3</th>\n",
       "      <td>1</td>\n",
       "    </tr>\n",
       "    <tr>\n",
       "      <th>4</th>\n",
       "      <td>1</td>\n",
       "    </tr>\n",
       "    <tr>\n",
       "      <th>...</th>\n",
       "      <td>...</td>\n",
       "    </tr>\n",
       "    <tr>\n",
       "      <th>111</th>\n",
       "      <td>0</td>\n",
       "    </tr>\n",
       "    <tr>\n",
       "      <th>112</th>\n",
       "      <td>0</td>\n",
       "    </tr>\n",
       "    <tr>\n",
       "      <th>113</th>\n",
       "      <td>0</td>\n",
       "    </tr>\n",
       "    <tr>\n",
       "      <th>114</th>\n",
       "      <td>0</td>\n",
       "    </tr>\n",
       "    <tr>\n",
       "      <th>115</th>\n",
       "      <td>0</td>\n",
       "    </tr>\n",
       "  </tbody>\n",
       "</table>\n",
       "<p>116 rows × 1 columns</p>\n",
       "</div>"
      ],
      "text/plain": [
       "     label\n",
       "0        1\n",
       "1        1\n",
       "2        1\n",
       "3        1\n",
       "4        1\n",
       "..     ...\n",
       "111      0\n",
       "112      0\n",
       "113      0\n",
       "114      0\n",
       "115      0\n",
       "\n",
       "[116 rows x 1 columns]"
      ]
     },
     "execution_count": 121,
     "metadata": {},
     "output_type": "execute_result"
    }
   ],
   "source": [
    "# testX\n",
    "\n",
    "dataTestLabel = data.parse(data.sheet_names[1])\n",
    "dataTestLabel"
   ]
  },
  {
   "cell_type": "code",
   "execution_count": 122,
   "metadata": {
    "colab": {
     "base_uri": "https://localhost:8080/",
     "height": 443
    },
    "id": "uVmfUYVoJQFA",
    "outputId": "28c30ffa-2c09-4d19-85ab-8225be90ea11"
   },
   "outputs": [
    {
     "data": {
      "text/html": [
       "<div>\n",
       "<style scoped>\n",
       "    .dataframe tbody tr th:only-of-type {\n",
       "        vertical-align: middle;\n",
       "    }\n",
       "\n",
       "    .dataframe tbody tr th {\n",
       "        vertical-align: top;\n",
       "    }\n",
       "\n",
       "    .dataframe thead th {\n",
       "        text-align: right;\n",
       "    }\n",
       "</style>\n",
       "<table border=\"1\" class=\"dataframe\">\n",
       "  <thead>\n",
       "    <tr style=\"text-align: right;\">\n",
       "      <th></th>\n",
       "      <th>n_A</th>\n",
       "      <th>n_C</th>\n",
       "      <th>n_G</th>\n",
       "      <th>n_T</th>\n",
       "      <th>u_A</th>\n",
       "      <th>u_C</th>\n",
       "      <th>u_G</th>\n",
       "      <th>u_T</th>\n",
       "      <th>d_A</th>\n",
       "      <th>d_C</th>\n",
       "      <th>...</th>\n",
       "      <th>CGA.1</th>\n",
       "      <th>CGG.1</th>\n",
       "      <th>AGT.1</th>\n",
       "      <th>AGC.1</th>\n",
       "      <th>AGA.1</th>\n",
       "      <th>AGG.1</th>\n",
       "      <th>GGT.1</th>\n",
       "      <th>GGC.1</th>\n",
       "      <th>GGA.1</th>\n",
       "      <th>GGG.1</th>\n",
       "    </tr>\n",
       "  </thead>\n",
       "  <tbody>\n",
       "    <tr>\n",
       "      <th>0</th>\n",
       "      <td>-0.079757</td>\n",
       "      <td>-0.032493</td>\n",
       "      <td>-0.067730</td>\n",
       "      <td>-0.090055</td>\n",
       "      <td>-0.064322</td>\n",
       "      <td>-0.088827</td>\n",
       "      <td>-0.068759</td>\n",
       "      <td>-0.061979</td>\n",
       "      <td>-0.081177</td>\n",
       "      <td>-0.077503</td>\n",
       "      <td>...</td>\n",
       "      <td>-0.512204</td>\n",
       "      <td>-0.471211</td>\n",
       "      <td>-0.472175</td>\n",
       "      <td>-0.505372</td>\n",
       "      <td>-0.526061</td>\n",
       "      <td>-0.498837</td>\n",
       "      <td>-0.447614</td>\n",
       "      <td>-0.453105</td>\n",
       "      <td>-0.492799</td>\n",
       "      <td>-0.486964</td>\n",
       "    </tr>\n",
       "    <tr>\n",
       "      <th>1</th>\n",
       "      <td>-0.279657</td>\n",
       "      <td>-0.186025</td>\n",
       "      <td>-0.197682</td>\n",
       "      <td>-0.256980</td>\n",
       "      <td>-0.240183</td>\n",
       "      <td>-0.230312</td>\n",
       "      <td>-0.235686</td>\n",
       "      <td>-0.237808</td>\n",
       "      <td>-0.240315</td>\n",
       "      <td>-0.236576</td>\n",
       "      <td>...</td>\n",
       "      <td>-0.186454</td>\n",
       "      <td>-0.177414</td>\n",
       "      <td>-0.175844</td>\n",
       "      <td>-0.060350</td>\n",
       "      <td>-0.005715</td>\n",
       "      <td>-0.131315</td>\n",
       "      <td>-0.302278</td>\n",
       "      <td>-0.197074</td>\n",
       "      <td>-0.140577</td>\n",
       "      <td>-0.294445</td>\n",
       "    </tr>\n",
       "    <tr>\n",
       "      <th>2</th>\n",
       "      <td>0.774034</td>\n",
       "      <td>0.921008</td>\n",
       "      <td>0.903158</td>\n",
       "      <td>0.797089</td>\n",
       "      <td>0.860663</td>\n",
       "      <td>0.832516</td>\n",
       "      <td>0.851099</td>\n",
       "      <td>0.825459</td>\n",
       "      <td>0.817033</td>\n",
       "      <td>0.889360</td>\n",
       "      <td>...</td>\n",
       "      <td>-0.270519</td>\n",
       "      <td>-0.279853</td>\n",
       "      <td>-0.226227</td>\n",
       "      <td>-0.270360</td>\n",
       "      <td>-0.279759</td>\n",
       "      <td>-0.195783</td>\n",
       "      <td>-0.135570</td>\n",
       "      <td>-0.233917</td>\n",
       "      <td>-0.174370</td>\n",
       "      <td>-0.146116</td>\n",
       "    </tr>\n",
       "    <tr>\n",
       "      <th>3</th>\n",
       "      <td>4.108326</td>\n",
       "      <td>5.172295</td>\n",
       "      <td>5.243379</td>\n",
       "      <td>4.272610</td>\n",
       "      <td>4.615838</td>\n",
       "      <td>4.784163</td>\n",
       "      <td>4.687492</td>\n",
       "      <td>4.500982</td>\n",
       "      <td>4.652144</td>\n",
       "      <td>4.646319</td>\n",
       "      <td>...</td>\n",
       "      <td>-0.102390</td>\n",
       "      <td>-0.170134</td>\n",
       "      <td>-0.122147</td>\n",
       "      <td>-0.152855</td>\n",
       "      <td>-0.141722</td>\n",
       "      <td>-0.099842</td>\n",
       "      <td>-0.128445</td>\n",
       "      <td>-0.170222</td>\n",
       "      <td>-0.074292</td>\n",
       "      <td>-0.134973</td>\n",
       "    </tr>\n",
       "    <tr>\n",
       "      <th>4</th>\n",
       "      <td>1.122720</td>\n",
       "      <td>1.299344</td>\n",
       "      <td>1.367250</td>\n",
       "      <td>1.153660</td>\n",
       "      <td>1.196827</td>\n",
       "      <td>1.258160</td>\n",
       "      <td>1.264947</td>\n",
       "      <td>1.192804</td>\n",
       "      <td>1.192258</td>\n",
       "      <td>1.242257</td>\n",
       "      <td>...</td>\n",
       "      <td>-0.412378</td>\n",
       "      <td>-0.384372</td>\n",
       "      <td>-0.398589</td>\n",
       "      <td>-0.389533</td>\n",
       "      <td>-0.414413</td>\n",
       "      <td>-0.427261</td>\n",
       "      <td>-0.434077</td>\n",
       "      <td>-0.390034</td>\n",
       "      <td>-0.431063</td>\n",
       "      <td>-0.441236</td>\n",
       "    </tr>\n",
       "    <tr>\n",
       "      <th>...</th>\n",
       "      <td>...</td>\n",
       "      <td>...</td>\n",
       "      <td>...</td>\n",
       "      <td>...</td>\n",
       "      <td>...</td>\n",
       "      <td>...</td>\n",
       "      <td>...</td>\n",
       "      <td>...</td>\n",
       "      <td>...</td>\n",
       "      <td>...</td>\n",
       "      <td>...</td>\n",
       "      <td>...</td>\n",
       "      <td>...</td>\n",
       "      <td>...</td>\n",
       "      <td>...</td>\n",
       "      <td>...</td>\n",
       "      <td>...</td>\n",
       "      <td>...</td>\n",
       "      <td>...</td>\n",
       "      <td>...</td>\n",
       "      <td>...</td>\n",
       "    </tr>\n",
       "    <tr>\n",
       "      <th>111</th>\n",
       "      <td>-0.474426</td>\n",
       "      <td>-0.509826</td>\n",
       "      <td>-0.511147</td>\n",
       "      <td>-0.485337</td>\n",
       "      <td>-0.492588</td>\n",
       "      <td>-0.495527</td>\n",
       "      <td>-0.491620</td>\n",
       "      <td>-0.497114</td>\n",
       "      <td>-0.487801</td>\n",
       "      <td>-0.496809</td>\n",
       "      <td>...</td>\n",
       "      <td>-0.391361</td>\n",
       "      <td>-0.323532</td>\n",
       "      <td>-0.334285</td>\n",
       "      <td>-0.355364</td>\n",
       "      <td>-0.358928</td>\n",
       "      <td>-0.327259</td>\n",
       "      <td>-0.228186</td>\n",
       "      <td>-0.278879</td>\n",
       "      <td>-0.305641</td>\n",
       "      <td>-0.210289</td>\n",
       "    </tr>\n",
       "    <tr>\n",
       "      <th>112</th>\n",
       "      <td>-0.433574</td>\n",
       "      <td>-0.482683</td>\n",
       "      <td>-0.498215</td>\n",
       "      <td>-0.443980</td>\n",
       "      <td>-0.458548</td>\n",
       "      <td>-0.468510</td>\n",
       "      <td>-0.468235</td>\n",
       "      <td>-0.456709</td>\n",
       "      <td>-0.448189</td>\n",
       "      <td>-0.479364</td>\n",
       "      <td>...</td>\n",
       "      <td>-0.391361</td>\n",
       "      <td>-0.323532</td>\n",
       "      <td>-0.334285</td>\n",
       "      <td>-0.355364</td>\n",
       "      <td>-0.358928</td>\n",
       "      <td>-0.327259</td>\n",
       "      <td>-0.228186</td>\n",
       "      <td>-0.278879</td>\n",
       "      <td>-0.305641</td>\n",
       "      <td>-0.210289</td>\n",
       "    </tr>\n",
       "    <tr>\n",
       "      <th>113</th>\n",
       "      <td>-0.181022</td>\n",
       "      <td>-0.115254</td>\n",
       "      <td>-0.106364</td>\n",
       "      <td>-0.224136</td>\n",
       "      <td>-0.163738</td>\n",
       "      <td>-0.167642</td>\n",
       "      <td>-0.158041</td>\n",
       "      <td>-0.168470</td>\n",
       "      <td>-0.173022</td>\n",
       "      <td>-0.154631</td>\n",
       "      <td>...</td>\n",
       "      <td>-0.128660</td>\n",
       "      <td>-0.180534</td>\n",
       "      <td>-0.144687</td>\n",
       "      <td>-0.207024</td>\n",
       "      <td>-0.176232</td>\n",
       "      <td>-0.184108</td>\n",
       "      <td>-0.143406</td>\n",
       "      <td>-0.181462</td>\n",
       "      <td>-0.148375</td>\n",
       "      <td>-0.154570</td>\n",
       "    </tr>\n",
       "    <tr>\n",
       "      <th>114</th>\n",
       "      <td>-0.440372</td>\n",
       "      <td>-0.482433</td>\n",
       "      <td>-0.483448</td>\n",
       "      <td>-0.452090</td>\n",
       "      <td>-0.463355</td>\n",
       "      <td>-0.461661</td>\n",
       "      <td>-0.460860</td>\n",
       "      <td>-0.466971</td>\n",
       "      <td>-0.459294</td>\n",
       "      <td>-0.462022</td>\n",
       "      <td>...</td>\n",
       "      <td>-0.065612</td>\n",
       "      <td>-0.070815</td>\n",
       "      <td>-0.064472</td>\n",
       "      <td>-0.037016</td>\n",
       "      <td>-0.009775</td>\n",
       "      <td>-0.021667</td>\n",
       "      <td>-0.095674</td>\n",
       "      <td>-0.109024</td>\n",
       "      <td>-0.084689</td>\n",
       "      <td>-0.089244</td>\n",
       "    </tr>\n",
       "    <tr>\n",
       "      <th>115</th>\n",
       "      <td>-0.415617</td>\n",
       "      <td>-0.439221</td>\n",
       "      <td>-0.457346</td>\n",
       "      <td>-0.431671</td>\n",
       "      <td>-0.430514</td>\n",
       "      <td>-0.444893</td>\n",
       "      <td>-0.446537</td>\n",
       "      <td>-0.419426</td>\n",
       "      <td>-0.438467</td>\n",
       "      <td>-0.451890</td>\n",
       "      <td>...</td>\n",
       "      <td>-0.275773</td>\n",
       "      <td>-0.353172</td>\n",
       "      <td>-0.376713</td>\n",
       "      <td>-0.356198</td>\n",
       "      <td>-0.362988</td>\n",
       "      <td>-0.339442</td>\n",
       "      <td>-0.419829</td>\n",
       "      <td>-0.363807</td>\n",
       "      <td>-0.410267</td>\n",
       "      <td>-0.397813</td>\n",
       "    </tr>\n",
       "  </tbody>\n",
       "</table>\n",
       "<p>116 rows × 184 columns</p>\n",
       "</div>"
      ],
      "text/plain": [
       "          n_A       n_C       n_G       n_T       u_A       u_C       u_G  \\\n",
       "0   -0.079757 -0.032493 -0.067730 -0.090055 -0.064322 -0.088827 -0.068759   \n",
       "1   -0.279657 -0.186025 -0.197682 -0.256980 -0.240183 -0.230312 -0.235686   \n",
       "2    0.774034  0.921008  0.903158  0.797089  0.860663  0.832516  0.851099   \n",
       "3    4.108326  5.172295  5.243379  4.272610  4.615838  4.784163  4.687492   \n",
       "4    1.122720  1.299344  1.367250  1.153660  1.196827  1.258160  1.264947   \n",
       "..        ...       ...       ...       ...       ...       ...       ...   \n",
       "111 -0.474426 -0.509826 -0.511147 -0.485337 -0.492588 -0.495527 -0.491620   \n",
       "112 -0.433574 -0.482683 -0.498215 -0.443980 -0.458548 -0.468510 -0.468235   \n",
       "113 -0.181022 -0.115254 -0.106364 -0.224136 -0.163738 -0.167642 -0.158041   \n",
       "114 -0.440372 -0.482433 -0.483448 -0.452090 -0.463355 -0.461661 -0.460860   \n",
       "115 -0.415617 -0.439221 -0.457346 -0.431671 -0.430514 -0.444893 -0.446537   \n",
       "\n",
       "          u_T       d_A       d_C  ...     CGA.1     CGG.1     AGT.1  \\\n",
       "0   -0.061979 -0.081177 -0.077503  ... -0.512204 -0.471211 -0.472175   \n",
       "1   -0.237808 -0.240315 -0.236576  ... -0.186454 -0.177414 -0.175844   \n",
       "2    0.825459  0.817033  0.889360  ... -0.270519 -0.279853 -0.226227   \n",
       "3    4.500982  4.652144  4.646319  ... -0.102390 -0.170134 -0.122147   \n",
       "4    1.192804  1.192258  1.242257  ... -0.412378 -0.384372 -0.398589   \n",
       "..        ...       ...       ...  ...       ...       ...       ...   \n",
       "111 -0.497114 -0.487801 -0.496809  ... -0.391361 -0.323532 -0.334285   \n",
       "112 -0.456709 -0.448189 -0.479364  ... -0.391361 -0.323532 -0.334285   \n",
       "113 -0.168470 -0.173022 -0.154631  ... -0.128660 -0.180534 -0.144687   \n",
       "114 -0.466971 -0.459294 -0.462022  ... -0.065612 -0.070815 -0.064472   \n",
       "115 -0.419426 -0.438467 -0.451890  ... -0.275773 -0.353172 -0.376713   \n",
       "\n",
       "        AGC.1     AGA.1     AGG.1     GGT.1     GGC.1     GGA.1     GGG.1  \n",
       "0   -0.505372 -0.526061 -0.498837 -0.447614 -0.453105 -0.492799 -0.486964  \n",
       "1   -0.060350 -0.005715 -0.131315 -0.302278 -0.197074 -0.140577 -0.294445  \n",
       "2   -0.270360 -0.279759 -0.195783 -0.135570 -0.233917 -0.174370 -0.146116  \n",
       "3   -0.152855 -0.141722 -0.099842 -0.128445 -0.170222 -0.074292 -0.134973  \n",
       "4   -0.389533 -0.414413 -0.427261 -0.434077 -0.390034 -0.431063 -0.441236  \n",
       "..        ...       ...       ...       ...       ...       ...       ...  \n",
       "111 -0.355364 -0.358928 -0.327259 -0.228186 -0.278879 -0.305641 -0.210289  \n",
       "112 -0.355364 -0.358928 -0.327259 -0.228186 -0.278879 -0.305641 -0.210289  \n",
       "113 -0.207024 -0.176232 -0.184108 -0.143406 -0.181462 -0.148375 -0.154570  \n",
       "114 -0.037016 -0.009775 -0.021667 -0.095674 -0.109024 -0.084689 -0.089244  \n",
       "115 -0.356198 -0.362988 -0.339442 -0.419829 -0.363807 -0.410267 -0.397813  \n",
       "\n",
       "[116 rows x 184 columns]"
      ]
     },
     "execution_count": 122,
     "metadata": {},
     "output_type": "execute_result"
    }
   ],
   "source": [
    "# testY\n",
    "\n",
    "dataTestFeature = data.parse(data.sheet_names[2])\n",
    "dataTestFeature"
   ]
  },
  {
   "cell_type": "code",
   "execution_count": null,
   "metadata": {
    "id": "4R8I8nUVJSWo"
   },
   "outputs": [],
   "source": []
  },
  {
   "cell_type": "markdown",
   "metadata": {
    "id": "lLGW3BHzmiTs"
   },
   "source": [
    "## PCA plot to visualise distribution of samples between two groups"
   ]
  },
  {
   "cell_type": "code",
   "execution_count": 123,
   "metadata": {
    "id": "phcu1nYFmkne"
   },
   "outputs": [],
   "source": [
    "\n",
    "trainX = dataTrainFeature\n",
    "trainY = dataTrainLabel\n",
    "testX = dataTestFeature\n",
    "testY = dataTestLabel\n",
    "\n",
    "Train = pd.concat([trainX, trainY],axis=1)\n",
    "Test = pd.concat([testX, testY], axis = 1)"
   ]
  },
  {
   "cell_type": "code",
   "execution_count": null,
   "metadata": {},
   "outputs": [],
   "source": []
  },
  {
   "cell_type": "code",
   "execution_count": 124,
   "metadata": {
    "colab": {
     "base_uri": "https://localhost:8080/"
    },
    "id": "3dWNGcsftM6h",
    "outputId": "bad6e584-c10d-452a-b11d-d0e4a2239168"
   },
   "outputs": [
    {
     "data": {
      "text/plain": [
       "0"
      ]
     },
     "execution_count": 124,
     "metadata": {},
     "output_type": "execute_result"
    }
   ],
   "source": [
    "int(trainY.values[500])"
   ]
  },
  {
   "cell_type": "code",
   "execution_count": 125,
   "metadata": {
    "id": "s3ma57Himkpy"
   },
   "outputs": [],
   "source": [
    "\n",
    "matrixTrain = trainX\n",
    "matrixTrain = StandardScaler().fit_transform(matrixTrain)\n",
    "trainDF = pd.DataFrame(matrixTrain)\n",
    "df2C = PCA(n_components = 2)\n",
    "trainDF2 = df2C.fit_transform(matrixTrain)\n",
    "trainDF2Plot = pd.DataFrame(data = trainDF2, columns = ['PCA1', 'PCA2'])\n",
    "\n"
   ]
  },
  {
   "cell_type": "code",
   "execution_count": 126,
   "metadata": {
    "colab": {
     "base_uri": "https://localhost:8080/",
     "height": 423
    },
    "id": "kuHJpkTFty14",
    "outputId": "ffea0aa3-fed9-4ede-c67d-33e176cffce2"
   },
   "outputs": [
    {
     "data": {
      "text/html": [
       "<div>\n",
       "<style scoped>\n",
       "    .dataframe tbody tr th:only-of-type {\n",
       "        vertical-align: middle;\n",
       "    }\n",
       "\n",
       "    .dataframe tbody tr th {\n",
       "        vertical-align: top;\n",
       "    }\n",
       "\n",
       "    .dataframe thead th {\n",
       "        text-align: right;\n",
       "    }\n",
       "</style>\n",
       "<table border=\"1\" class=\"dataframe\">\n",
       "  <thead>\n",
       "    <tr style=\"text-align: right;\">\n",
       "      <th></th>\n",
       "      <th>PCA1</th>\n",
       "      <th>PCA2</th>\n",
       "    </tr>\n",
       "  </thead>\n",
       "  <tbody>\n",
       "    <tr>\n",
       "      <th>0</th>\n",
       "      <td>21.667974</td>\n",
       "      <td>16.574237</td>\n",
       "    </tr>\n",
       "    <tr>\n",
       "      <th>1</th>\n",
       "      <td>8.870042</td>\n",
       "      <td>-10.428509</td>\n",
       "    </tr>\n",
       "    <tr>\n",
       "      <th>2</th>\n",
       "      <td>-0.130800</td>\n",
       "      <td>-3.599043</td>\n",
       "    </tr>\n",
       "    <tr>\n",
       "      <th>3</th>\n",
       "      <td>-1.278897</td>\n",
       "      <td>-4.726049</td>\n",
       "    </tr>\n",
       "    <tr>\n",
       "      <th>4</th>\n",
       "      <td>33.671870</td>\n",
       "      <td>-37.604509</td>\n",
       "    </tr>\n",
       "    <tr>\n",
       "      <th>...</th>\n",
       "      <td>...</td>\n",
       "      <td>...</td>\n",
       "    </tr>\n",
       "    <tr>\n",
       "      <th>573</th>\n",
       "      <td>-4.380776</td>\n",
       "      <td>2.645398</td>\n",
       "    </tr>\n",
       "    <tr>\n",
       "      <th>574</th>\n",
       "      <td>-5.639608</td>\n",
       "      <td>0.355995</td>\n",
       "    </tr>\n",
       "    <tr>\n",
       "      <th>575</th>\n",
       "      <td>-5.422320</td>\n",
       "      <td>-0.259587</td>\n",
       "    </tr>\n",
       "    <tr>\n",
       "      <th>576</th>\n",
       "      <td>-2.639847</td>\n",
       "      <td>1.664357</td>\n",
       "    </tr>\n",
       "    <tr>\n",
       "      <th>577</th>\n",
       "      <td>-3.720417</td>\n",
       "      <td>1.665983</td>\n",
       "    </tr>\n",
       "  </tbody>\n",
       "</table>\n",
       "<p>578 rows × 2 columns</p>\n",
       "</div>"
      ],
      "text/plain": [
       "          PCA1       PCA2\n",
       "0    21.667974  16.574237\n",
       "1     8.870042 -10.428509\n",
       "2    -0.130800  -3.599043\n",
       "3    -1.278897  -4.726049\n",
       "4    33.671870 -37.604509\n",
       "..         ...        ...\n",
       "573  -4.380776   2.645398\n",
       "574  -5.639608   0.355995\n",
       "575  -5.422320  -0.259587\n",
       "576  -2.639847   1.664357\n",
       "577  -3.720417   1.665983\n",
       "\n",
       "[578 rows x 2 columns]"
      ]
     },
     "execution_count": 126,
     "metadata": {},
     "output_type": "execute_result"
    }
   ],
   "source": [
    "trainDF2Plot"
   ]
  },
  {
   "cell_type": "code",
   "execution_count": 127,
   "metadata": {
    "colab": {
     "base_uri": "https://localhost:8080/",
     "height": 1000
    },
    "id": "uUjOzIdNtvmC",
    "outputId": "161d63ec-eb81-4b3c-f16e-d0a2a776dc13"
   },
   "outputs": [
    {
     "data": {
      "text/plain": [
       "<Figure size 432x288 with 0 Axes>"
      ]
     },
     "metadata": {},
     "output_type": "display_data"
    },
    {
     "data": {
      "image/png": "[encoded data removed]",
      "text/plain": [
       "<Figure size 864x864 with 1 Axes>"
      ]
     },
     "metadata": {
      "needs_background": "light"
     },
     "output_type": "display_data"
    }
   ],
   "source": [
    "# PCA Plot for Train Data\n",
    "plt.figure()\n",
    "plt.figure(figsize = (12,12))\n",
    "plt.xticks(fontsize=11)\n",
    "plt.yticks(fontsize=11)\n",
    "plt.xlabel(\"PCA1\", fontsize=20)\n",
    "plt.ylabel(\"PCA2\",fontsize=20)\n",
    "\n",
    "\n",
    "labels = [1,0]\n",
    "colors = ['g','b']\n",
    "for label,color in zip(labels, colors):\n",
    "    for index in range(len(trainY.values)):\n",
    "    #print(index)\n",
    "        if label == int((trainY.values)[index]):\n",
    "      #print((trainY.values)[index])\n",
    "          plt.scatter(trainDF2Plot[\"PCA1\"][index], trainDF2Plot[\"PCA2\"][index],c= color ,s = 50)\n",
    "\n",
    "p1 = mlines.Line2D([], [], color='green', marker='o', linestyle='None',\n",
    "                          markersize=10, label='1 - Interact')\n",
    "\n",
    "p2 = mlines.Line2D([], [], color='blue', marker='o', linestyle='None',\n",
    "                          markersize=10, label='0 - Does not Interact')\n",
    "\n",
    "plt.title('PCA Plot for Training Data', fontsize=25)\n",
    "plt.legend(handles = [p1,p2], fontsize=15)\n",
    "plt.show()"
   ]
  },
  {
   "cell_type": "code",
   "execution_count": 128,
   "metadata": {
    "id": "7t4gktkB0rJw"
   },
   "outputs": [],
   "source": [
    "\n",
    "matrixTest = testX\n",
    "matrixTest = StandardScaler().fit_transform(matrixTest)\n",
    "testDF = pd.DataFrame(matrixTest)\n",
    "df2C = PCA(n_components = 2)\n",
    "testDF2 = df2C.fit_transform(matrixTest)\n",
    "testDF2Plot = pd.DataFrame(data = testDF2, columns = ['PCA1', 'PCA2'])\n",
    "\n"
   ]
  },
  {
   "cell_type": "code",
   "execution_count": 129,
   "metadata": {
    "colab": {
     "base_uri": "https://localhost:8080/",
     "height": 1000
    },
    "id": "1tcHeCJ4mkuw",
    "outputId": "cc30d507-ffef-4771-c4b3-2e570cb837ca"
   },
   "outputs": [
    {
     "data": {
      "text/plain": [
       "<Figure size 432x288 with 0 Axes>"
      ]
     },
     "metadata": {},
     "output_type": "display_data"
    },
    {
     "data": {
      "image/png": "[encoded data removed]",
      "text/plain": [
       "<Figure size 864x864 with 1 Axes>"
      ]
     },
     "metadata": {
      "needs_background": "light"
     },
     "output_type": "display_data"
    }
   ],
   "source": [
    "# PCA Plot for Test Data\n",
    "plt.figure()\n",
    "plt.figure(figsize = (12,12))\n",
    "\n",
    "plt.xlabel(\"PCA1\", fontsize =20)\n",
    "plt.ylabel(\"PCA2\", fontsize =20)\n",
    "\n",
    "\n",
    "labels = [1,0]\n",
    "colors = ['y','b']\n",
    "for label,color in zip(labels, colors):\n",
    "    for index in range(len(testY.values)):\n",
    "        if label == int((testY.values)[index]):\n",
    "            plt.scatter(testDF2Plot[\"PCA1\"][index], testDF2Plot[\"PCA2\"][index],c= color ,s = 50)\n",
    "\n",
    "p1 = mlines.Line2D([], [], color='yellow', marker='o', linestyle='None',\n",
    "                          markersize=10, label='1 - Interact')\n",
    "\n",
    "p2 = mlines.Line2D([], [], color='blue', marker='o', linestyle='None',\n",
    "                          markersize=10, label='0 - Does not interact')\n",
    "\n",
    "\n",
    "plt.title('PCA Plot for Testing Data', fontsize=25)\n",
    "plt.legend(handles = [p1,p2], fontsize=15)\n",
    "plt.show()"
   ]
  },
  {
   "cell_type": "code",
   "execution_count": null,
   "metadata": {
    "id": "z3nzTOmXmkyM"
   },
   "outputs": [],
   "source": []
  },
  {
   "cell_type": "markdown",
   "metadata": {
    "id": "GrY3_Pa3NmTX"
   },
   "source": [
    "## Passive Learning (Random Sampling)"
   ]
  },
  {
   "cell_type": "code",
   "execution_count": 130,
   "metadata": {
    "id": "Z4kFFRFyQdNp"
   },
   "outputs": [],
   "source": [
    "# preparing test and train sets for random sampling\n",
    "\n",
    "trainXRandom = dataTrainFeature\n",
    "trainYRandom = dataTrainLabel\n",
    "testXRandom = dataTestFeature\n",
    "testYRandom = dataTestLabel\n",
    "\n",
    "Train = pd.concat([trainXRandom, trainYRandom],axis=1)\n",
    "Test = pd.concat([testXRandom, testYRandom], axis = 1)\n"
   ]
  },
  {
   "cell_type": "code",
   "execution_count": null,
   "metadata": {
    "id": "ZW1hnRMnSvjV"
   },
   "outputs": [],
   "source": []
  },
  {
   "cell_type": "code",
   "execution_count": 131,
   "metadata": {
    "colab": {
     "base_uri": "https://localhost:8080/"
    },
    "id": "TJOraKDaReuS",
    "outputId": "bd025a27-cedd-47ef-b395-0560ce4f59b1"
   },
   "outputs": [
    {
     "name": "stdout",
     "output_type": "stream",
     "text": [
      "0.9626943005181348\n",
      "0.0032033224509484324\n",
      "0.9624137931034482\n",
      "0.00427919780896238\n",
      "0.9607573149741825\n",
      "0.005035710443486333\n",
      "0.9608247422680412\n",
      "0.002003763537747519\n",
      "0.9612349914236706\n",
      "0.003181344252314147\n",
      "0.9626712328767123\n",
      "0.003813537234815083\n",
      "0.9627350427350427\n",
      "0.002940965903262426\n",
      "0.9631399317406144\n",
      "0.00334401330072787\n",
      "0.9604770017035774\n",
      "0.005639845096165881\n",
      "0.9619047619047618\n",
      "0.0038180177416060803\n",
      "0.9609507640067912\n",
      "0.004680491936193628\n",
      "0.9613559322033899\n",
      "0.002711864406779668\n",
      "0.9627749576988155\n",
      "0.0038584616754623715\n",
      "0.960472972972973\n",
      "0.004352736056326024\n",
      "0.9581787521079257\n",
      "0.0050477671322413965\n",
      "0.9609427609427609\n",
      "0.004040404040404052\n",
      "0.9596638655462184\n",
      "0.006806203943299707\n",
      "0.962751677852349\n",
      "0.0028866863312223654\n",
      "0.9624790619765493\n",
      "0.005254401052381284\n",
      "0.9625418060200669\n",
      "0.0027170697005471423\n",
      "0.9649415692821369\n",
      "0.001055852307234847\n",
      "0.9626666666666667\n",
      "0.0019999999999999944\n",
      "0.9607321131447588\n",
      "0.003584136310904825\n",
      "0.9624584717607974\n",
      "0.004407474804459002\n",
      "0.9621890547263682\n",
      "0.003215708031453656\n",
      "0.9612582781456954\n",
      "0.006159296436337199\n",
      "0.9626446280991736\n",
      "0.00438561955749474\n",
      "0.9627062706270628\n",
      "0.003987803951681396\n",
      "0.9640856672158155\n",
      "0.0040888545785802\n",
      "0.962171052631579\n",
      "0.0018017189391617008\n",
      "270.4062201976776\n"
     ]
    }
   ],
   "source": [
    "start = time.time()\n",
    "accuracyTrainAverageRandom = []\n",
    "accuracyTestAverageRandom = []\n",
    "accuracyTrainSDRandom = []\n",
    "accuracyTestSDRandom = []\n",
    "\n",
    "train = Train\n",
    "test = Test\n",
    "chosen = []\n",
    "\n",
    "for random in range(30):\n",
    "\n",
    "    pickRandomRow = test.sample(n=1)\n",
    "    test.drop(pickRandomRow.index,inplace=True)\n",
    "    train = pd.concat([train, pickRandomRow], axis=0)\n",
    "    chosen.append(pickRandomRow.index)\n",
    "\n",
    "\n",
    "    lossTrainSubset = []\n",
    "    lossTestSubset = []\n",
    "\n",
    "    for i in range(5):  # 5 times for different random seeds\n",
    "        # to have 5 folds to do cross validation\n",
    "\n",
    "        kFold = KFold(n_splits = 5, shuffle = True, random_state = i+10)\n",
    "\n",
    "\n",
    "        # run across 5 iterations / 5 folds\n",
    "        predictions = []\n",
    "        actual = []\n",
    "\n",
    "\n",
    "        trainX = train[train.columns[:-1]].to_numpy()\n",
    "        trainY = train[train.columns[-1]].to_numpy()\n",
    "\n",
    "        testX = test[test.columns[:-1]].to_numpy()\n",
    "        testY = test[test.columns[-1]].to_numpy()\n",
    "\n",
    "        for trainIndex, valIndex in kFold.split(trainX):\n",
    "            xTrain, xVal = trainX[trainIndex], trainX[valIndex]\n",
    "            yTrain, yVal = trainY[trainIndex], trainY[valIndex]\n",
    "            rf = RandomForestClassifier()\n",
    "            rf.fit(xTrain, yTrain)\n",
    "            yPred = rf.predict(xVal)\n",
    "            predictions += yPred.tolist()\n",
    "            actual += yVal.tolist()\n",
    "\n",
    "        loss = accuracy_score(actual,predictions)\n",
    "        lossTrainSubset.append(loss)\n",
    "\n",
    "        rf.fit(trainX, trainY)\n",
    "        predictTest = rf.predict(testX)\n",
    "        lossTest = accuracy_score(predictTest, testY.tolist())\n",
    "\n",
    "        lossTestSubset.append(lossTest)\n",
    "\n",
    "    accuracyTrainAverageRandom.append(np.mean(lossTrainSubset))\n",
    "    accuracyTrainSDRandom.append(np.std(lossTrainSubset))\n",
    "    print(np.mean(lossTrainSubset))\n",
    "    print(np.std(lossTrainSubset))\n",
    "    accuracyTestAverageRandom.append(np.mean(lossTestSubset))\n",
    "    accuracyTestSDRandom.append(np.std(lossTestSubset))\n",
    "end = time.time()\n",
    "\n",
    "elapsed = end - start\n",
    "print(elapsed)"
   ]
  },
  {
   "cell_type": "code",
   "execution_count": 132,
   "metadata": {
    "colab": {
     "base_uri": "https://localhost:8080/",
     "height": 664
    },
    "id": "oTg9DfZ5VKFE",
    "outputId": "86797381-34d6-48d7-f716-0abc07925644"
   },
   "outputs": [
    {
     "data": {
      "text/plain": [
       "Text(0, 0.5, 'Accuracy Value')"
      ]
     },
     "execution_count": 132,
     "metadata": {},
     "output_type": "execute_result"
    },
    {
     "data": {
      "image/png": "[encoded data removed]",
      "text/plain": [
       "<Figure size 864x504 with 1 Axes>"
      ]
     },
     "metadata": {
      "needs_background": "light"
     },
     "output_type": "display_data"
    }
   ],
   "source": [
    "# plot the graph\n",
    "\n",
    "plt.figure(figsize=(12,7))\n",
    "\n",
    "point = [i for i in range(30)]\n",
    "\n",
    "plt.errorbar(point,accuracyTrainAverageRandom, accuracyTrainSDRandom,linestyle='-', marker='.', color='green', alpha = 0.5)\n",
    "plt.errorbar(point,accuracyTestAverageRandom, accuracyTestSDRandom,linestyle='-', marker='.', color='blue', alpha = 0.5)\n",
    "\n",
    "plt.title(\"Plot of Accuracy over data points.\")\n",
    "\n",
    "\n",
    "p1 = mlines.Line2D([], [], color='green', marker='.', linestyle='-',\n",
    "                          markersize=10, label='Train - Random Sampling')\n",
    "\n",
    "p2 = mlines.Line2D([], [], color='blue', marker='.', linestyle='-',\n",
    "                          markersize=10, label='Test - Random Sampling')\n",
    "\n",
    "plt.ylim(0.85,1.01)\n",
    "\n",
    "plt.legend(handles=[p1,p2])\n",
    "\n",
    "\n",
    "\n",
    "plt.xlabel(\"Data Points\",size =15)\n",
    "plt.ylabel(\"Accuracy Value\",size=15)"
   ]
  },
  {
   "cell_type": "code",
   "execution_count": 133,
   "metadata": {},
   "outputs": [
    {
     "data": {
      "text/plain": [
       "Int64Index([68], dtype='int64')"
      ]
     },
     "execution_count": 133,
     "metadata": {},
     "output_type": "execute_result"
    }
   ],
   "source": [
    "chosen[0]"
   ]
  },
  {
   "cell_type": "code",
   "execution_count": 134,
   "metadata": {
    "colab": {
     "base_uri": "https://localhost:8080/",
     "height": 664
    },
    "id": "G5m9eJ0Pm096",
    "outputId": "d12bf39c-9602-4d76-aa39-26b495196fa5"
   },
   "outputs": [
    {
     "data": {
      "text/plain": [
       "Text(0, 0.5, 'STD Value')"
      ]
     },
     "execution_count": 134,
     "metadata": {},
     "output_type": "execute_result"
    },
    {
     "data": {
      "image/png": "[encoded data removed]",
      "text/plain": [
       "<Figure size 864x504 with 1 Axes>"
      ]
     },
     "metadata": {
      "needs_background": "light"
     },
     "output_type": "display_data"
    }
   ],
   "source": [
    "# plot the graph for training accuracy STD\n",
    "\n",
    "plt.figure(figsize=(12,7))\n",
    "\n",
    "point = [i for i in range(30)]\n",
    "\n",
    "plt.plot(point,accuracyTrainSDRandom, linestyle='-', marker='.', color='purple', alpha = 0.5)\n",
    "\n",
    "plt.title(\"Plot of Standard Deviation over number of Queries.\")\n",
    "\n",
    "\n",
    "p1 = mlines.Line2D([], [], color='purple', marker='.', linestyle='-',\n",
    "                          markersize=10, label='Train - Random Sampling')\n",
    "\n",
    "#plt.ylim(0.95,1.01)\n",
    "\n",
    "plt.legend(handles=[p1])\n",
    "\n",
    "\n",
    "\n",
    "plt.xlabel(\"Number of Queries\",size =15)\n",
    "plt.ylabel(\"STD Value\",size=15)"
   ]
  },
  {
   "cell_type": "code",
   "execution_count": 135,
   "metadata": {
    "colab": {
     "base_uri": "https://localhost:8080/",
     "height": 664
    },
    "id": "txGbBgGQocG4",
    "outputId": "f51528c8-cd7c-46e7-b39f-24fe3eb42fc9"
   },
   "outputs": [
    {
     "data": {
      "text/plain": [
       "Text(0, 0.5, 'Accuracy Value')"
      ]
     },
     "execution_count": 135,
     "metadata": {},
     "output_type": "execute_result"
    },
    {
     "data": {
      "image/png": "[encoded data removed]",
      "text/plain": [
       "<Figure size 864x504 with 1 Axes>"
      ]
     },
     "metadata": {
      "needs_background": "light"
     },
     "output_type": "display_data"
    }
   ],
   "source": [
    "# plot the graph for training accuracy\n",
    "\n",
    "plt.figure(figsize=(12,7))\n",
    "\n",
    "point = [i for i in range(30)]\n",
    "\n",
    "plt.plot(point,accuracyTrainAverageRandom, linestyle='-', marker='.', color='purple', alpha = 0.5)\n",
    "\n",
    "plt.title(\"Plot of Accuracy over Number of Queries.\")\n",
    "\n",
    "\n",
    "p1 = mlines.Line2D([], [], color='purple', marker='.', linestyle='-',\n",
    "                          markersize=10, label='Train - Random Sampling')\n",
    "\n",
    "plt.ylim(0.95,1.01)\n",
    "\n",
    "plt.legend(handles=[p1])\n",
    "\n",
    "\n",
    "\n",
    "plt.xlabel(\"Number of Queries\",size =15)\n",
    "plt.ylabel(\"Accuracy Value\",size=15)"
   ]
  },
  {
   "cell_type": "code",
   "execution_count": 136,
   "metadata": {
    "colab": {
     "base_uri": "https://localhost:8080/",
     "height": 664
    },
    "id": "G9ZPWtN1qzFa",
    "outputId": "c4ddbc0b-2f1f-4756-a4a1-41327c94b7ce"
   },
   "outputs": [
    {
     "data": {
      "text/plain": [
       "Text(0, 0.5, 'Accuracy Value')"
      ]
     },
     "execution_count": 136,
     "metadata": {},
     "output_type": "execute_result"
    },
    {
     "data": {
      "image/png": "[encoded data removed]",
      "text/plain": [
       "<Figure size 864x504 with 1 Axes>"
      ]
     },
     "metadata": {
      "needs_background": "light"
     },
     "output_type": "display_data"
    }
   ],
   "source": [
    "# plot the graph for testing accuracy\n",
    "\n",
    "plt.figure(figsize=(12,7))\n",
    "\n",
    "point = [i for i in range(30)]\n",
    "\n",
    "plt.plot(point,accuracyTestAverageRandom, linestyle='-', marker='.', color='purple', alpha = 0.5)\n",
    "\n",
    "plt.title(\"Plot of Accuracy over Number of Queries.\")\n",
    "\n",
    "\n",
    "p1 = mlines.Line2D([], [], color='purple', marker='.', linestyle='-',\n",
    "                          markersize=10, label='Test - Random Sampling')\n",
    "\n",
    "plt.ylim(0.8,1.01)\n",
    "\n",
    "plt.legend(handles=[p1])\n",
    "\n",
    "\n",
    "\n",
    "plt.xlabel(\"Number of Queries\",size =15)\n",
    "plt.ylabel(\"Accuracy Value\",size=15)"
   ]
  },
  {
   "cell_type": "code",
   "execution_count": 137,
   "metadata": {
    "colab": {
     "base_uri": "https://localhost:8080/",
     "height": 664
    },
    "id": "Q4cY51J5qzPS",
    "outputId": "776813f5-39fe-4867-d36d-9d440c9ee08b"
   },
   "outputs": [
    {
     "data": {
      "text/plain": [
       "Text(0, 0.5, 'STD Value')"
      ]
     },
     "execution_count": 137,
     "metadata": {},
     "output_type": "execute_result"
    },
    {
     "data": {
      "image/png": "[encoded data removed]",
      "text/plain": [
       "<Figure size 864x504 with 1 Axes>"
      ]
     },
     "metadata": {
      "needs_background": "light"
     },
     "output_type": "display_data"
    }
   ],
   "source": [
    "# plot the graph for testing accuracy STD\n",
    "\n",
    "plt.figure(figsize=(12,7))\n",
    "\n",
    "point = [i for i in range(30)]\n",
    "\n",
    "plt.plot(point,accuracyTestSDRandom, linestyle='-', marker='.', color='purple', alpha = 0.5)\n",
    "\n",
    "plt.title(\"Plot of Standard Deviation over Number of Queries.\")\n",
    "\n",
    "\n",
    "p1 = mlines.Line2D([], [], color='purple', marker='.', linestyle='-',\n",
    "                          markersize=10, label='Test - Random Sampling')\n",
    "\n",
    "#plt.ylim(0.5,1.01)\n",
    "\n",
    "plt.legend(handles=[p1])\n",
    "\n",
    "\n",
    "\n",
    "plt.xlabel(\"Number of Queries\",size =15)\n",
    "plt.ylabel(\"STD Value\",size=15)"
   ]
  },
  {
   "cell_type": "code",
   "execution_count": 138,
   "metadata": {},
   "outputs": [],
   "source": [
    "\n",
    "trainX = dataTrainFeature\n",
    "trainY = dataTrainLabel\n",
    "testX = dataTestFeature\n",
    "testY = dataTestLabel\n",
    "\n",
    "Train = pd.concat([trainX, trainY],axis=1)\n",
    "Test = pd.concat([testX, testY], axis = 1)"
   ]
  },
  {
   "cell_type": "code",
   "execution_count": 139,
   "metadata": {},
   "outputs": [
    {
     "data": {
      "text/plain": [
       "'\\nTrain = pd.concat([trainXRandom, trainYRandom],axis=1)\\nTest = pd.concat([testXRandom, testYRandom], axis = 1)\\n'"
      ]
     },
     "execution_count": 139,
     "metadata": {},
     "output_type": "execute_result"
    }
   ],
   "source": [
    "'''\n",
    "Train = pd.concat([trainXRandom, trainYRandom],axis=1)\n",
    "Test = pd.concat([testXRandom, testYRandom], axis = 1)\n",
    "'''"
   ]
  },
  {
   "cell_type": "code",
   "execution_count": 140,
   "metadata": {},
   "outputs": [
    {
     "data": {
      "text/plain": [
       "<Figure size 432x288 with 0 Axes>"
      ]
     },
     "metadata": {},
     "output_type": "display_data"
    },
    {
     "data": {
      "image/png": "[encoded data removed]",
      "text/plain": [
       "<Figure size 864x864 with 1 Axes>"
      ]
     },
     "metadata": {
      "needs_background": "light"
     },
     "output_type": "display_data"
    }
   ],
   "source": [
    "# PCA Plot for Test Data\n",
    "plt.figure()\n",
    "plt.figure(figsize = (12,12))\n",
    "\n",
    "plt.xlabel(\"PCA1\", fontsize =20)\n",
    "plt.ylabel(\"PCA2\", fontsize =20)\n",
    "\n",
    "\n",
    "labels = [1,0]\n",
    "colors = ['y','b']\n",
    "for label,color in zip(labels, colors):\n",
    "    for index in range(len(testY.values)):\n",
    "        if label == int((testY.values)[index]) and index in chosen:\n",
    "            plt.scatter(testDF2Plot[\"PCA1\"][index], testDF2Plot[\"PCA2\"][index],c= 'purple' ,s = 50)\n",
    "        elif label == int((testY.values)[index]) and index not in chosen:\n",
    "            plt.scatter(testDF2Plot[\"PCA1\"][index], testDF2Plot[\"PCA2\"][index],c= color ,s = 50)\n",
    "\n",
    "p1 = mlines.Line2D([], [], color='yellow', marker='o', linestyle='None',\n",
    "                          markersize=10, label='1 - Interact')\n",
    "\n",
    "p2 = mlines.Line2D([], [], color='blue', marker='o', linestyle='None',\n",
    "                          markersize=10, label='0 - Does not interact')\n",
    "\n",
    "p3 = mlines.Line2D([], [], color='purple', marker='o', linestyle='None',\n",
    "                          markersize=10, label='Random Sampling Selection')\n",
    "\n",
    "\n",
    "plt.title('PCA Plot for Testing Data', fontsize=25)\n",
    "plt.legend(handles = [p1,p2,p3], fontsize=15)\n",
    "plt.show()"
   ]
  },
  {
   "cell_type": "code",
   "execution_count": 141,
   "metadata": {},
   "outputs": [],
   "source": [
    "\n",
    "info = ['accuracyTrainAverageRandom','accuracyTestAverageRandom','accuracyTrainSDRandom','accuracyTestSDRandom']\n",
    "with open('random.txt','w') as file:\n",
    "    for name, data in zip(info, [accuracyTrainAverageRandom,accuracyTestAverageRandom,accuracyTrainSDRandom,accuracyTestSDRandom]):\n",
    "        file.write(f\"{name}:\\n\")\n",
    "        for item in data:\n",
    "            file.write(f\"{item}\\n\")\n",
    "        file.write('\\n')"
   ]
  },
  {
   "cell_type": "code",
   "execution_count": null,
   "metadata": {},
   "outputs": [],
   "source": []
  },
  {
   "cell_type": "code",
   "execution_count": null,
   "metadata": {},
   "outputs": [],
   "source": []
  },
  {
   "cell_type": "code",
   "execution_count": null,
   "metadata": {},
   "outputs": [],
   "source": []
  }
 ],
 "metadata": {
  "colab": {
   "provenance": []
  },
  "kernelspec": {
   "display_name": "Python 3 (ipykernel)",
   "language": "python",
   "name": "python3"
  },
  "language_info": {
   "codemirror_mode": {
    "name": "ipython",
    "version": 3
   },
   "file_extension": ".py",
   "mimetype": "text/x-python",
   "name": "python",
   "nbconvert_exporter": "python",
   "pygments_lexer": "ipython3",
   "version": "3.9.12"
  }
 },
 "nbformat": 4,
 "nbformat_minor": 1
}
